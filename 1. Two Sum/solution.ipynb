{
 "cells": [
  {
   "cell_type": "code",
   "execution_count": null,
   "id": "178733b5",
   "metadata": {},
   "outputs": [],
   "source": [
    "class Solution(object):\n",
    "    def twoSum(self, nums, target):\n",
    "        \"\"\"\n",
    "        :type nums: List[int] eg [2,7,11,15]\n",
    "        :type target: int eg 9\n",
    "        :rtype: List[int]\n",
    "        \"\"\"\n",
    "\n",
    "        seen = {}  # number -> index (HASHMAP)\n",
    "\n",
    "        for i, num in enumerate(nums):\n",
    "            complement = target - num\n",
    "\n",
    "            if complement in seen:\n",
    "                return [seen[complement], i]\n",
    "\n",
    "            seen[num] = i"
   ]
  },
  {
   "cell_type": "code",
   "execution_count": 3,
   "id": "0e9f6051",
   "metadata": {},
   "outputs": [
    {
     "data": {
      "text/plain": [
       "[2, 3]"
      ]
     },
     "execution_count": 3,
     "metadata": {},
     "output_type": "execute_result"
    }
   ],
   "source": [
    "nums = [2,7,11,15]\n",
    "target = 26\n",
    "\n",
    "sol = Solution()\n",
    "sol.twoSum(nums, target)"
   ]
  }
 ],
 "metadata": {
  "kernelspec": {
   "display_name": "base",
   "language": "python",
   "name": "python3"
  },
  "language_info": {
   "codemirror_mode": {
    "name": "ipython",
    "version": 3
   },
   "file_extension": ".py",
   "mimetype": "text/x-python",
   "name": "python",
   "nbconvert_exporter": "python",
   "pygments_lexer": "ipython3",
   "version": "3.9.7"
  }
 },
 "nbformat": 4,
 "nbformat_minor": 5
}
