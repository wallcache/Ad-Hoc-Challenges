{
 "cells": [
  {
   "cell_type": "code",
   "execution_count": null,
   "id": "23fdaaf8",
   "metadata": {},
   "outputs": [],
   "source": [
    "class Solution(object):\n",
    "    def singleNumber(self, nums):\n",
    "        \"\"\"\n",
    "        :type nums: List[int]\n",
    "        :rtype: int\n",
    "        \"\"\"\n",
    "\n",
    "        r = 0\n",
    "        for n in nums:\n",
    "            r = r ^ n\n",
    "\n",
    "        return r\n",
    "        "
   ]
  },
  {
   "cell_type": "code",
   "execution_count": 23,
   "id": "035ea308",
   "metadata": {},
   "outputs": [
    {
     "ename": "TypeError",
     "evalue": "unsupported operand type(s) for ^: 'str' and 'int'",
     "output_type": "error",
     "traceback": [
      "\u001b[0;31m---------------------------------------------------------------------------\u001b[0m",
      "\u001b[0;31mTypeError\u001b[0m                                 Traceback (most recent call last)",
      "\u001b[0;32m/var/folders/9h/nft40w193n77w8ktczn6s8yh0000gn/T/ipykernel_55470/126440589.py\u001b[0m in \u001b[0;36m<module>\u001b[0;34m\u001b[0m\n\u001b[0;32m----> 1\u001b[0;31m \u001b[0;34m'a'\u001b[0m \u001b[0;34m^\u001b[0m \u001b[0;36m0\u001b[0m\u001b[0;34m\u001b[0m\u001b[0;34m\u001b[0m\u001b[0m\n\u001b[0m",
      "\u001b[0;31mTypeError\u001b[0m: unsupported operand type(s) for ^: 'str' and 'int'"
     ]
    }
   ],
   "source": [
    "'a' ^ 0"
   ]
  },
  {
   "cell_type": "code",
   "execution_count": null,
   "id": "cde03740",
   "metadata": {},
   "outputs": [
    {
     "name": "stdout",
     "output_type": "stream",
     "text": [
      "result:  0000\n",
      "num:     0100\n",
      "=====\n",
      "new res: 0100\n",
      "-----\n",
      "result:  0100\n",
      "num:     0001\n",
      "=====\n",
      "new res: 0101\n",
      "-----\n",
      "result:  0101\n",
      "num:     0010\n",
      "=====\n",
      "new res: 0111\n",
      "-----\n",
      "result:  0111\n",
      "num:     0001\n",
      "=====\n",
      "new res: 0110\n",
      "-----\n",
      "result:  0110\n",
      "num:     0010\n",
      "=====\n",
      "new res: 0100\n",
      "-----\n",
      "!!!!!!\n",
      "4\n"
     ]
    }
   ],
   "source": [
    "nums = [4, 1, 2, 1, 2]\n",
    "\n",
    "result = 0\n",
    "for num in nums:\n",
    "    print(\"result: \", format(result, '04b'))\n",
    "    print(\"num:    \", format(num, '04b'))\n",
    "    result = result ^ num\n",
    "    print(\"=====\")\n",
    "    print(\"new res:\", format(result, '04b'))\n",
    "    print(\"-----\")\n",
    "\n",
    "print(\"!!!!!!\")\n",
    "print(result)\n",
    "\n",
    "\n"
   ]
  },
  {
   "cell_type": "code",
   "execution_count": null,
   "id": "d5da90fe",
   "metadata": {},
   "outputs": [],
   "source": []
  },
  {
   "cell_type": "code",
   "execution_count": null,
   "id": "0e80ba1e",
   "metadata": {},
   "outputs": [],
   "source": []
  }
 ],
 "metadata": {
  "kernelspec": {
   "display_name": "base",
   "language": "python",
   "name": "python3"
  },
  "language_info": {
   "codemirror_mode": {
    "name": "ipython",
    "version": 3
   },
   "file_extension": ".py",
   "mimetype": "text/x-python",
   "name": "python",
   "nbconvert_exporter": "python",
   "pygments_lexer": "ipython3",
   "version": "3.9.7"
  }
 },
 "nbformat": 4,
 "nbformat_minor": 5
}
