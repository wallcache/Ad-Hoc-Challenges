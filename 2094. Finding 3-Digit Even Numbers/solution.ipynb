{
 "cells": [
  {
   "cell_type": "code",
   "execution_count": 8,
   "id": "668b21b4",
   "metadata": {},
   "outputs": [],
   "source": [
    "class Solution(object):\n",
    "    def findEvenNumbers(self, digits):\n",
    "\n",
    "        map = [0]*10\n",
    "        for d in digits:\n",
    "            map[d] += 1\n",
    "\n",
    "        res = set()\n",
    "\n",
    "        for i in range(1, 10):\n",
    "            if map[i] == 0: \n",
    "                continue\n",
    "            map[i] -= 1\n",
    "            for j in range(10):\n",
    "                if map[j] == 0: \n",
    "                    continue\n",
    "                map[j] -= 1\n",
    "                for k in range(0, 10, 2):\n",
    "                    if map[k] == 0: \n",
    "                        continue\n",
    "                    res.add(i*100 + j*10 + k)\n",
    "                map[j] += 1\n",
    "            map[i] += 1\n",
    "        return sorted(res)"
   ]
  },
  {
   "cell_type": "code",
   "execution_count": 9,
   "id": "23410411",
   "metadata": {},
   "outputs": [
    {
     "data": {
      "text/plain": [
       "[102, 120, 130, 132, 210, 230, 302, 310, 312, 320]"
      ]
     },
     "execution_count": 9,
     "metadata": {},
     "output_type": "execute_result"
    }
   ],
   "source": [
    "sol = Solution()\n",
    "\n",
    "sol.findEvenNumbers([2,1,3,0])"
   ]
  },
  {
   "cell_type": "code",
   "execution_count": 17,
   "id": "883b08fa",
   "metadata": {},
   "outputs": [
    {
     "name": "stdout",
     "output_type": "stream",
     "text": [
      "[102, 120, 130, 132, 210, 230, 302, 310, 312, 320]\n"
     ]
    }
   ],
   "source": [
    "numbers = [2,1,3,0]\n",
    "\n",
    "hashmap = [0]*10\n",
    "\n",
    "for i in numbers:\n",
    "    hashmap[i] += 1\n",
    "\n",
    "set_of_nums = set()\n",
    "\n",
    "for i in range(1,10):\n",
    "    if hashmap[i] == 0: continue\n",
    "    hashmap[i] -= 1\n",
    "    for j in range(10):\n",
    "        if hashmap[j] == 0: continue\n",
    "        hashmap[j] -= 1\n",
    "        for k in range(0, 10, 2):\n",
    "            if hashmap[k] == 0: continue\n",
    "            set_of_nums.add((i*100) + (j*10) + k)\n",
    "        hashmap[j] += 1\n",
    "    hashmap[i] += 1\n",
    "print(sorted(list(set_of_nums)))"
   ]
  },
  {
   "cell_type": "code",
   "execution_count": null,
   "id": "710e3ee6",
   "metadata": {},
   "outputs": [],
   "source": [
    "\n"
   ]
  }
 ],
 "metadata": {
  "kernelspec": {
   "display_name": "base",
   "language": "python",
   "name": "python3"
  },
  "language_info": {
   "codemirror_mode": {
    "name": "ipython",
    "version": 3
   },
   "file_extension": ".py",
   "mimetype": "text/x-python",
   "name": "python",
   "nbconvert_exporter": "python",
   "pygments_lexer": "ipython3",
   "version": "3.9.7"
  }
 },
 "nbformat": 4,
 "nbformat_minor": 5
}
