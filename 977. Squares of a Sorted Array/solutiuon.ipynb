{
 "cells": [
  {
   "cell_type": "code",
   "execution_count": null,
   "id": "6dbdfab9",
   "metadata": {},
   "outputs": [
    {
     "name": "stdout",
     "output_type": "stream",
     "text": [
      "[0, 1, 9, 16, 100]\n"
     ]
    }
   ],
   "source": [
    "nums = [-4,-1,0,3,10]\n",
    "\n",
    "\n",
    "return_array = [0] * len(nums)\n",
    "\n",
    "left_read_pointer = 0\n",
    "right_read_pointer = len(nums) - 1\n",
    "\n",
    "# Write pointer starts at the end and writes backwards.\n",
    "write_pointer = len(nums) - 1\n",
    "\n",
    "# Define initial values of left and right square\n",
    "left_square = nums[left_read_pointer] ** 2\n",
    "right_square = nums[right_read_pointer] ** 2\n",
    "\n",
    "# Write pointer starts at the end and moves to index 0, when it becomes -1 the while loop ends.\n",
    "while write_pointer >= 0:\n",
    "    if left_square > right_square:\n",
    "        return_array[write_pointer] = left_square\n",
    "        left_read_pointer += 1\n",
    "        left_square = nums[left_read_pointer] ** 2\n",
    "    else:\n",
    "        return_array[write_pointer] = right_square\n",
    "        right_read_pointer -= 1\n",
    "        right_square = nums[right_read_pointer] ** 2\n",
    "    write_pointer -= 1\n",
    "\n",
    "print(return_array)"
   ]
  },
  {
   "cell_type": "code",
   "execution_count": 2,
   "id": "1e27bf04",
   "metadata": {},
   "outputs": [
    {
     "name": "stdout",
     "output_type": "stream",
     "text": [
      "[0, 0, 0, 0, 0]\n"
     ]
    }
   ],
   "source": [
    "\n",
    "return_array = [0] * len(nums)\n",
    "print(return_array)"
   ]
  },
  {
   "cell_type": "code",
   "execution_count": 5,
   "id": "e8da28ec",
   "metadata": {},
   "outputs": [],
   "source": [
    "left_read_pointer = 0\n",
    "right_read_pointer = len(nums) - 1\n",
    "\n",
    "left_square = nums[left_read_pointer] ** 2\n",
    "right_square = nums[right_read_pointer] ** 2"
   ]
  },
  {
   "cell_type": "code",
   "execution_count": null,
   "id": "3c77baed",
   "metadata": {},
   "outputs": [],
   "source": []
  }
 ],
 "metadata": {
  "kernelspec": {
   "display_name": "base",
   "language": "python",
   "name": "python3"
  },
  "language_info": {
   "codemirror_mode": {
    "name": "ipython",
    "version": 3
   },
   "file_extension": ".py",
   "mimetype": "text/x-python",
   "name": "python",
   "nbconvert_exporter": "python",
   "pygments_lexer": "ipython3",
   "version": "3.9.7"
  }
 },
 "nbformat": 4,
 "nbformat_minor": 5
}
