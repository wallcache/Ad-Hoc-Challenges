{
 "cells": [
  {
   "cell_type": "code",
   "execution_count": 1,
   "id": "6dbdfab9",
   "metadata": {},
   "outputs": [
    {
     "ename": "NameError",
     "evalue": "name 'left_square' is not defined",
     "output_type": "error",
     "traceback": [
      "\u001b[0;31m---------------------------------------------------------------------------\u001b[0m",
      "\u001b[0;31mNameError\u001b[0m                                 Traceback (most recent call last)",
      "\u001b[0;32m/var/folders/9h/nft40w193n77w8ktczn6s8yh0000gn/T/ipykernel_16324/3949460763.py\u001b[0m in \u001b[0;36m<module>\u001b[0;34m\u001b[0m\n\u001b[1;32m     12\u001b[0m \u001b[0;31m# Write pointer starts at the end and moves to index 0, when it becomes -1 the while loop ends.\u001b[0m\u001b[0;34m\u001b[0m\u001b[0;34m\u001b[0m\u001b[0m\n\u001b[1;32m     13\u001b[0m \u001b[0;32mwhile\u001b[0m \u001b[0mwrite_pointer\u001b[0m \u001b[0;34m>=\u001b[0m \u001b[0;36m0\u001b[0m\u001b[0;34m:\u001b[0m\u001b[0;34m\u001b[0m\u001b[0;34m\u001b[0m\u001b[0m\n\u001b[0;32m---> 14\u001b[0;31m     \u001b[0;32mif\u001b[0m \u001b[0mleft_square\u001b[0m \u001b[0;34m>\u001b[0m \u001b[0mright_square\u001b[0m\u001b[0;34m:\u001b[0m\u001b[0;34m\u001b[0m\u001b[0;34m\u001b[0m\u001b[0m\n\u001b[0m\u001b[1;32m     15\u001b[0m         \u001b[0mreturn_array\u001b[0m\u001b[0;34m[\u001b[0m\u001b[0mwrite_pointer\u001b[0m\u001b[0;34m]\u001b[0m \u001b[0;34m=\u001b[0m \u001b[0mleft_square\u001b[0m\u001b[0;34m\u001b[0m\u001b[0;34m\u001b[0m\u001b[0m\n\u001b[1;32m     16\u001b[0m         \u001b[0mleft_read_pointer\u001b[0m \u001b[0;34m+=\u001b[0m \u001b[0;36m1\u001b[0m\u001b[0;34m\u001b[0m\u001b[0;34m\u001b[0m\u001b[0m\n",
      "\u001b[0;31mNameError\u001b[0m: name 'left_square' is not defined"
     ]
    }
   ],
   "source": [
    "nums = [-4,-1,0,3,10]\n",
    "\n",
    "\n",
    "return_array = [0] * len(nums)\n",
    "\n",
    "left_read_pointer = 0\n",
    "right_read_pointer = len(nums) - 1\n",
    "\n",
    "# Write pointer starts at the end and writes backwards.\n",
    "write_pointer = len(nums) - 1\n",
    "\n",
    "# Write pointer starts at the end and moves to index 0, when it becomes -1 the while loop ends.\n",
    "while write_pointer >= 0:\n",
    "    if left_square > right_square:\n",
    "        return_array[write_pointer] = left_square\n",
    "        left_read_pointer += 1\n",
    "        left_square = nums[left_read_pointer] ** 2\n",
    "    else:\n",
    "        return_array[write_pointer] = right_square\n",
    "        right_read_pointer -= 1\n",
    "        right_square = nums[right_read_pointer] ** 2\n",
    "    write_pointer -= 1\n",
    "\n",
    "print(return_array)"
   ]
  },
  {
   "cell_type": "code",
   "execution_count": null,
   "id": "1e27bf04",
   "metadata": {},
   "outputs": [],
   "source": [
    "\n",
    "return_array = [0] * len(nums)\n",
    "print(return_array)"
   ]
  },
  {
   "cell_type": "code",
   "execution_count": null,
   "id": "e8da28ec",
   "metadata": {},
   "outputs": [],
   "source": [
    "left_read_pointer = 0\n",
    "right_read_pointer = len(nums) - 1\n",
    "\n",
    "left_square = nums[left_read_pointer] ** 2\n",
    "right_square = nums[right_read_pointer] ** 2"
   ]
  },
  {
   "cell_type": "code",
   "execution_count": null,
   "id": "3c77baed",
   "metadata": {},
   "outputs": [],
   "source": []
  }
 ],
 "metadata": {
  "kernelspec": {
   "display_name": "base",
   "language": "python",
   "name": "python3"
  },
  "language_info": {
   "codemirror_mode": {
    "name": "ipython",
    "version": 3
   },
   "file_extension": ".py",
   "mimetype": "text/x-python",
   "name": "python",
   "nbconvert_exporter": "python",
   "pygments_lexer": "ipython3",
   "version": "3.9.7"
  }
 },
 "nbformat": 4,
 "nbformat_minor": 5
}
