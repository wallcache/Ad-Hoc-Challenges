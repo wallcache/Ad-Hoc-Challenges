{
 "cells": [
  {
   "cell_type": "code",
   "execution_count": null,
   "id": "a880105c",
   "metadata": {},
   "outputs": [],
   "source": [
    "class Solution(object):\n",
    "    def isPalindrome(self, s):\n",
    "        s_cleaned = ''.join(ch for ch in s.lower() if ch.isalnum())\n",
    "        return s_cleaned == s_cleaned[::-1]"
   ]
  },
  {
   "cell_type": "code",
   "execution_count": null,
   "id": "834368b6",
   "metadata": {},
   "outputs": [
    {
     "name": "stdout",
     "output_type": "stream",
     "text": [
      "Malayalam\n"
     ]
    }
   ],
   "source": [
    "list_of_pals = {}\n",
    "for i in words:\n",
    "    if isPalindrome(i):\n",
    "        list_of_pals[i] = len(i)\n",
    "\n",
    "sorted_dict = dict(sorted(list_of_pals.items(), key=lambda item: item[1]))\n",
    "\n",
    "print(list(sorted_dict)[-1])"
   ]
  },
  {
   "cell_type": "code",
   "execution_count": null,
   "id": "f501a97e",
   "metadata": {},
   "outputs": [],
   "source": []
  }
 ],
 "metadata": {
  "kernelspec": {
   "display_name": "base",
   "language": "python",
   "name": "python3"
  },
  "language_info": {
   "codemirror_mode": {
    "name": "ipython",
    "version": 3
   },
   "file_extension": ".py",
   "mimetype": "text/x-python",
   "name": "python",
   "nbconvert_exporter": "python",
   "pygments_lexer": "ipython3",
   "version": "3.9.7"
  }
 },
 "nbformat": 4,
 "nbformat_minor": 5
}
