{
 "cells": [
  {
   "cell_type": "code",
   "execution_count": null,
   "id": "a880105c",
   "metadata": {},
   "outputs": [],
   "source": [
    "class Solution(object):\n",
    "    def isPalindrome(self, s):\n",
    "        s_cleaned = ''.join(ch for ch in s.lower() if ch.isalnum())\n",
    "        return s_cleaned == s_cleaned[::-1]"
   ]
  },
  {
   "cell_type": "code",
   "execution_count": 4,
   "id": "64f68f58",
   "metadata": {},
   "outputs": [
    {
     "name": "stdout",
     "output_type": "stream",
     "text": [
      "lime\n"
     ]
    }
   ],
   "source": [
    "s_cleaned = 'emil'\n",
    "\n",
    "print(s_cleaned[::-1])"
   ]
  },
  {
   "cell_type": "code",
   "execution_count": null,
   "id": "71ef6d79",
   "metadata": {},
   "outputs": [],
   "source": []
  }
 ],
 "metadata": {
  "kernelspec": {
   "display_name": "base",
   "language": "python",
   "name": "python3"
  },
  "language_info": {
   "codemirror_mode": {
    "name": "ipython",
    "version": 3
   },
   "file_extension": ".py",
   "mimetype": "text/x-python",
   "name": "python",
   "nbconvert_exporter": "python",
   "pygments_lexer": "ipython3",
   "version": "3.9.7"
  }
 },
 "nbformat": 4,
 "nbformat_minor": 5
}
