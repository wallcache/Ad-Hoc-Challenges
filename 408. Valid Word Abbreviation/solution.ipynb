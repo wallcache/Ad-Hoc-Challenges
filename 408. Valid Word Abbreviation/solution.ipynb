{
 "cells": [
  {
   "cell_type": "code",
   "execution_count": 23,
   "metadata": {},
   "outputs": [],
   "source": [
    "class Solution(object):\n",
    "    def validWordAbbreviation(self, word, abbr):\n",
    "        \"\"\"\n",
    "        :type word: str\n",
    "        :type abbr: str\n",
    "        :rtype: bool\n",
    "        \"\"\"\n",
    "        \n",
    "        i = j = 0\n",
    "\n",
    "        while j < len(abbr) and i < len(word):\n",
    "            if abbr[j].isalpha():\n",
    "                if abbr[j] != word[i]:\n",
    "                    return False\n",
    "                i += 1 \n",
    "                j += 1 \n",
    "            else:\n",
    "                if abbr[j] == '0':\n",
    "                    return False \n",
    "                temp = 0\n",
    "                while j < len(abbr) and abbr[j].isdigit():\n",
    "                    temp = temp * 10 + int(abbr[j])\n",
    "                    j += 1\n",
    "                i += temp\n",
    "        return j == len(abbr) and i == len(word)"
   ]
  },
  {
   "cell_type": "code",
   "execution_count": 24,
   "metadata": {},
   "outputs": [
    {
     "data": {
      "text/plain": [
       "True"
      ]
     },
     "execution_count": 24,
     "metadata": {},
     "output_type": "execute_result"
    }
   ],
   "source": [
    "sol = Solution()\n",
    "\n",
    "sol.validWordAbbreviation(\"internationalization\", \"i12iz4n\")\n"
   ]
  }
 ],
 "metadata": {
  "kernelspec": {
   "display_name": "base",
   "language": "python",
   "name": "python3"
  },
  "language_info": {
   "codemirror_mode": {
    "name": "ipython",
    "version": 3
   },
   "file_extension": ".py",
   "mimetype": "text/x-python",
   "name": "python",
   "nbconvert_exporter": "python",
   "pygments_lexer": "ipython3",
   "version": "3.9.7"
  }
 },
 "nbformat": 4,
 "nbformat_minor": 2
}
