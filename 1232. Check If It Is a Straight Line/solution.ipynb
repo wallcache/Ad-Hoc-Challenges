{
 "cells": [
  {
   "cell_type": "code",
   "execution_count": 1,
   "id": "0021f101",
   "metadata": {},
   "outputs": [],
   "source": [
    "class Solution(object):\n",
    "    def checkStraightLine(self, coordinates):\n",
    "        \"\"\"\n",
    "        :type coordinates: List[List[int]]\n",
    "        :rtype: bool\n",
    "        \"\"\"\n",
    "        if len(coordinates) <= 2:\n",
    "            return True\n",
    "\n",
    "        x0, y0 = coordinates[0]\n",
    "        x1, y1 = coordinates[1]\n",
    "\n",
    "        for i in range(2, len(coordinates)):\n",
    "\n",
    "            x, y = coordinates[i]\n",
    "            if (y1 - y0) * (x - x1) != (y - y1) * (x1 - x0):\n",
    "                return False\n",
    "\n",
    "        return True"
   ]
  },
  {
   "cell_type": "code",
   "execution_count": null,
   "id": "a40dcdbe",
   "metadata": {},
   "outputs": [],
   "source": []
  }
 ],
 "metadata": {
  "kernelspec": {
   "display_name": "base",
   "language": "python",
   "name": "python3"
  },
  "language_info": {
   "codemirror_mode": {
    "name": "ipython",
    "version": 3
   },
   "file_extension": ".py",
   "mimetype": "text/x-python",
   "name": "python",
   "nbconvert_exporter": "python",
   "pygments_lexer": "ipython3",
   "version": "3.9.7"
  }
 },
 "nbformat": 4,
 "nbformat_minor": 5
}
